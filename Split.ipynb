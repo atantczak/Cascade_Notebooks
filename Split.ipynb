{
 "cells": [
  {
   "cell_type": "code",
   "execution_count": 1,
   "metadata": {},
   "outputs": [],
   "source": [
    "import pandas as pd\n",
    "import numpy as np"
   ]
  },
  {
   "cell_type": "code",
   "execution_count": 2,
   "metadata": {},
   "outputs": [],
   "source": [
    "series2 = pd.Series(\n",
    "    [\n",
    "        \"New England Patriots\",\n",
    "        \"Denver|Broncos\",\n",
    "        \"Carolina.Panthers\",\n",
    "        \"Philadelphia-Eagles\",\n",
    "    ]*100000\n",
    ")"
   ]
  },
  {
   "cell_type": "code",
   "execution_count": 3,
   "metadata": {},
   "outputs": [],
   "source": [
    "chars = pd.Series([\" \", \"|\", \".\", \"-\"]*100000)\n",
    "idxs = pd.Series([2, 1, 2, 1]*100000)"
   ]
  },
  {
   "cell_type": "code",
   "execution_count": 4,
   "metadata": {},
   "outputs": [],
   "source": [
    "def split(df, char, idx):\n",
    "    idx -= 1\n",
    "    return df.split(char)[idx]"
   ]
  },
  {
   "cell_type": "code",
   "execution_count": 6,
   "metadata": {},
   "outputs": [
    {
     "name": "stdout",
     "output_type": "stream",
     "text": [
      "177 ms ± 3.5 ms per loop (mean ± std. dev. of 7 runs, 10 loops each)\n"
     ]
    }
   ],
   "source": [
    "%timeit np.vectorize(split)(series2, chars, idxs)"
   ]
  },
  {
   "cell_type": "markdown",
   "metadata": {},
   "source": [
    "#### pd.apply() method replicated below"
   ]
  },
  {
   "cell_type": "code",
   "execution_count": 5,
   "metadata": {},
   "outputs": [],
   "source": [
    "def is_series(a) -> bool:\n",
    "    \"\"\"Checks if value is a pandas series.\"\"\"\n",
    "    return isinstance(a, pd.Series)\n",
    "\n",
    "def scalar_to_repeating_series(possible_scalar, compared_to):\n",
    "    \"\"\"Conform input into a series that is the same size as the comparison obj, possibly by repeating the input value.\n",
    "\n",
    "    This helper may be used where both scalar values and series should be supported by the caller.\n",
    "\n",
    "    Args:\n",
    "        possible_scalar: The input to be conformed (either a scalar or series)\n",
    "        compared_to: The comparison object to determine the size of the output series (either a series of dataframe)\n",
    "\n",
    "    Returns:\n",
    "        Series of values that is the same size as the comparison obj, repeating possible_scalar if necessary.\n",
    "    \"\"\"\n",
    "    if isinstance(compared_to, pd.DataFrame):\n",
    "        num_rows, _ = compared_to.shape\n",
    "    elif isinstance(compared_to, pd.Series):\n",
    "        num_rows = compared_to.size\n",
    "    else:\n",
    "        raise ValueError(f\"Unsupported comparison obj {type(compared_to)}.\")\n",
    "\n",
    "    if isinstance(possible_scalar, pd.Series):\n",
    "        if possible_scalar.size == num_rows:\n",
    "            return possible_scalar\n",
    "        else:\n",
    "            raise ValueError(\n",
    "                f\"Series {possible_scalar} does not match the size of the comparison obj. \"\n",
    "                \"Expected num rows: {num_rows}.\"\n",
    "            )\n",
    "\n",
    "    return pd.Series([possible_scalar]).repeat(num_rows).reset_index(drop=True)\n",
    "\n",
    "def split_(df, i):\n",
    "    text = df[\"text\"][i]\n",
    "    delimiter = df[\"delimiters\"][i]\n",
    "    index = df[\"index\"][i]\n",
    "\n",
    "    chunks = text.split(delimiter)\n",
    "    if index < len(chunks):\n",
    "        return chunks[index]\n",
    "    else:\n",
    "        return chunks[0]\n",
    "\n",
    "def execute(text=series2, char=chars, idx=idxs):\n",
    "    idx = pd.Series([1, 0, 1, 0]*100000)\n",
    "    if is_series(text):\n",
    "        if is_series(char) or is_series(idx):\n",
    "            char_series = scalar_to_repeating_series(char, text)\n",
    "            idx_series = scalar_to_repeating_series(idx, text)\n",
    "\n",
    "            split_df = pd.DataFrame(\n",
    "                {\"text\": text, \"delimiters\": char_series, \"index\": idx_series}\n",
    "            ).reset_index()\n",
    "            return pd.Series(split_df.index.values).apply(lambda i: split_(split_df, i))\n",
    "\n",
    "        return text.str.split(char, expand=True)[idx]\n",
    "\n",
    "    return text.split(char)[idx]"
   ]
  },
  {
   "cell_type": "code",
   "execution_count": 7,
   "metadata": {},
   "outputs": [
    {
     "name": "stdout",
     "output_type": "stream",
     "text": [
      "13.7 s ± 250 ms per loop (mean ± std. dev. of 7 runs, 1 loop each)\n"
     ]
    }
   ],
   "source": [
    "%timeit execute(text=series2, char=chars, idx=idxs)"
   ]
  }
 ],
 "metadata": {
  "kernelspec": {
   "display_name": "Python 3",
   "language": "python",
   "name": "python3"
  },
  "language_info": {
   "codemirror_mode": {
    "name": "ipython",
    "version": 3
   },
   "file_extension": ".py",
   "mimetype": "text/x-python",
   "name": "python",
   "nbconvert_exporter": "python",
   "pygments_lexer": "ipython3",
   "version": "3.8.1"
  }
 },
 "nbformat": 4,
 "nbformat_minor": 4
}
