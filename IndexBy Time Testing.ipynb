{
 "cells": [
  {
   "cell_type": "code",
   "execution_count": 1,
   "metadata": {},
   "outputs": [],
   "source": [
    "%load_ext nb_black"
   ]
  },
  {
   "cell_type": "code",
   "execution_count": 2,
   "metadata": {},
   "outputs": [
    {
     "data": {
      "application/javascript": [
       "\n",
       "            setTimeout(function() {\n",
       "                var nbb_cell_id = 2;\n",
       "                var nbb_unformatted_code = \"import pandas as pd\\nimport numpy as np\\nimport random\";\n",
       "                var nbb_formatted_code = \"import pandas as pd\\nimport numpy as np\\nimport random\";\n",
       "                var nbb_cells = Jupyter.notebook.get_cells();\n",
       "                for (var i = 0; i < nbb_cells.length; ++i) {\n",
       "                    if (nbb_cells[i].input_prompt_number == nbb_cell_id) {\n",
       "                        if (nbb_cells[i].get_text() == nbb_unformatted_code) {\n",
       "                             nbb_cells[i].set_text(nbb_formatted_code);\n",
       "                        }\n",
       "                        break;\n",
       "                    }\n",
       "                }\n",
       "            }, 500);\n",
       "            "
      ],
      "text/plain": [
       "<IPython.core.display.Javascript object>"
      ]
     },
     "metadata": {},
     "output_type": "display_data"
    }
   ],
   "source": [
    "import pandas as pd\n",
    "import numpy as np\n",
    "import random"
   ]
  },
  {
   "cell_type": "code",
   "execution_count": 3,
   "metadata": {},
   "outputs": [
    {
     "data": {
      "application/javascript": [
       "\n",
       "            setTimeout(function() {\n",
       "                var nbb_cell_id = 3;\n",
       "                var nbb_unformatted_code = \"ex_df = pd.DataFrame(\\n    {\\n        \\\"State\\\": [\\\"Alabama\\\", \\\"Alaska\\\", \\\"Arizona\\\", \\\"Arkansas\\\", \\\"California\\\"],\\n        \\\"Region\\\": [\\\"East\\\", \\\"West\\\", \\\"West\\\", \\\"East\\\", \\\"West\\\"],\\n    }\\n)\";\n",
       "                var nbb_formatted_code = \"ex_df = pd.DataFrame(\\n    {\\n        \\\"State\\\": [\\\"Alabama\\\", \\\"Alaska\\\", \\\"Arizona\\\", \\\"Arkansas\\\", \\\"California\\\"],\\n        \\\"Region\\\": [\\\"East\\\", \\\"West\\\", \\\"West\\\", \\\"East\\\", \\\"West\\\"],\\n    }\\n)\";\n",
       "                var nbb_cells = Jupyter.notebook.get_cells();\n",
       "                for (var i = 0; i < nbb_cells.length; ++i) {\n",
       "                    if (nbb_cells[i].input_prompt_number == nbb_cell_id) {\n",
       "                        if (nbb_cells[i].get_text() == nbb_unformatted_code) {\n",
       "                             nbb_cells[i].set_text(nbb_formatted_code);\n",
       "                        }\n",
       "                        break;\n",
       "                    }\n",
       "                }\n",
       "            }, 500);\n",
       "            "
      ],
      "text/plain": [
       "<IPython.core.display.Javascript object>"
      ]
     },
     "metadata": {},
     "output_type": "display_data"
    }
   ],
   "source": [
    "ex_df = pd.DataFrame(\n",
    "    {\n",
    "        \"State\": [\"Alabama\", \"Alaska\", \"Arizona\", \"Arkansas\", \"California\"],\n",
    "        \"Region\": [\"East\", \"West\", \"West\", \"East\", \"West\"],\n",
    "    }\n",
    ")"
   ]
  },
  {
   "cell_type": "code",
   "execution_count": 4,
   "metadata": {},
   "outputs": [
    {
     "data": {
      "text/html": [
       "<div>\n",
       "<style scoped>\n",
       "    .dataframe tbody tr th:only-of-type {\n",
       "        vertical-align: middle;\n",
       "    }\n",
       "\n",
       "    .dataframe tbody tr th {\n",
       "        vertical-align: top;\n",
       "    }\n",
       "\n",
       "    .dataframe thead th {\n",
       "        text-align: right;\n",
       "    }\n",
       "</style>\n",
       "<table border=\"1\" class=\"dataframe\">\n",
       "  <thead>\n",
       "    <tr style=\"text-align: right;\">\n",
       "      <th></th>\n",
       "      <th>State</th>\n",
       "      <th>Region</th>\n",
       "    </tr>\n",
       "  </thead>\n",
       "  <tbody>\n",
       "    <tr>\n",
       "      <th>0</th>\n",
       "      <td>Alabama</td>\n",
       "      <td>East</td>\n",
       "    </tr>\n",
       "    <tr>\n",
       "      <th>1</th>\n",
       "      <td>Alaska</td>\n",
       "      <td>West</td>\n",
       "    </tr>\n",
       "    <tr>\n",
       "      <th>2</th>\n",
       "      <td>Arizona</td>\n",
       "      <td>West</td>\n",
       "    </tr>\n",
       "    <tr>\n",
       "      <th>3</th>\n",
       "      <td>Arkansas</td>\n",
       "      <td>East</td>\n",
       "    </tr>\n",
       "    <tr>\n",
       "      <th>4</th>\n",
       "      <td>California</td>\n",
       "      <td>West</td>\n",
       "    </tr>\n",
       "  </tbody>\n",
       "</table>\n",
       "</div>"
      ],
      "text/plain": [
       "        State Region\n",
       "0     Alabama   East\n",
       "1      Alaska   West\n",
       "2     Arizona   West\n",
       "3    Arkansas   East\n",
       "4  California   West"
      ]
     },
     "execution_count": 4,
     "metadata": {},
     "output_type": "execute_result"
    },
    {
     "data": {
      "application/javascript": [
       "\n",
       "            setTimeout(function() {\n",
       "                var nbb_cell_id = 4;\n",
       "                var nbb_unformatted_code = \"ex_df\";\n",
       "                var nbb_formatted_code = \"ex_df\";\n",
       "                var nbb_cells = Jupyter.notebook.get_cells();\n",
       "                for (var i = 0; i < nbb_cells.length; ++i) {\n",
       "                    if (nbb_cells[i].input_prompt_number == nbb_cell_id) {\n",
       "                        if (nbb_cells[i].get_text() == nbb_unformatted_code) {\n",
       "                             nbb_cells[i].set_text(nbb_formatted_code);\n",
       "                        }\n",
       "                        break;\n",
       "                    }\n",
       "                }\n",
       "            }, 500);\n",
       "            "
      ],
      "text/plain": [
       "<IPython.core.display.Javascript object>"
      ]
     },
     "metadata": {},
     "output_type": "display_data"
    }
   ],
   "source": [
    "ex_df"
   ]
  },
  {
   "cell_type": "code",
   "execution_count": 5,
   "metadata": {},
   "outputs": [
    {
     "data": {
      "application/javascript": [
       "\n",
       "            setTimeout(function() {\n",
       "                var nbb_cell_id = 5;\n",
       "                var nbb_unformatted_code = \"class indexby:\\n    def __init__(self, df, index_column, index_val, partition_column):\\n        self.df = df\\n        self.index_column = index_column\\n        self.index_val = index_val\\n        self.partition_column = partition_column\\n        self.part_dict = {}\\n        for val in df[self.partition_column].unique():\\n            self.part_dict[val] = df[df[self.partition_column] == val][\\n                self.index_column\\n            ].reset_index(drop=True)[self.index_val - 1]\\n\\n    def set_value(self, partition):\\n        return self.part_dict[partition]\\n\\n    def execute(self):\\n        return np.vectorize(self.set_value)(self.df[self.partition_column])\";\n",
       "                var nbb_formatted_code = \"class indexby:\\n    def __init__(self, df, index_column, index_val, partition_column):\\n        self.df = df\\n        self.index_column = index_column\\n        self.index_val = index_val\\n        self.partition_column = partition_column\\n        self.part_dict = {}\\n        for val in df[self.partition_column].unique():\\n            self.part_dict[val] = df[df[self.partition_column] == val][\\n                self.index_column\\n            ].reset_index(drop=True)[self.index_val - 1]\\n\\n    def set_value(self, partition):\\n        return self.part_dict[partition]\\n\\n    def execute(self):\\n        return np.vectorize(self.set_value)(self.df[self.partition_column])\";\n",
       "                var nbb_cells = Jupyter.notebook.get_cells();\n",
       "                for (var i = 0; i < nbb_cells.length; ++i) {\n",
       "                    if (nbb_cells[i].input_prompt_number == nbb_cell_id) {\n",
       "                        if (nbb_cells[i].get_text() == nbb_unformatted_code) {\n",
       "                             nbb_cells[i].set_text(nbb_formatted_code);\n",
       "                        }\n",
       "                        break;\n",
       "                    }\n",
       "                }\n",
       "            }, 500);\n",
       "            "
      ],
      "text/plain": [
       "<IPython.core.display.Javascript object>"
      ]
     },
     "metadata": {},
     "output_type": "display_data"
    }
   ],
   "source": [
    "class indexby:\n",
    "    def __init__(self, df, index_column, index_val, partition_column):\n",
    "        self.df = df\n",
    "        self.index_column = index_column\n",
    "        self.index_val = index_val\n",
    "        self.partition_column = partition_column\n",
    "        self.part_dict = {}\n",
    "        for val in df[self.partition_column].unique():\n",
    "            self.part_dict[val] = df[df[self.partition_column] == val][\n",
    "                self.index_column\n",
    "            ].reset_index(drop=True)[self.index_val - 1]\n",
    "\n",
    "    def set_value(self, partition):\n",
    "        return self.part_dict[partition]\n",
    "\n",
    "    def execute(self):\n",
    "        return np.vectorize(self.set_value)(self.df[self.partition_column])"
   ]
  },
  {
   "cell_type": "code",
   "execution_count": 6,
   "metadata": {},
   "outputs": [
    {
     "data": {
      "text/plain": [
       "array(['Alabama', 'Alaska', 'Alaska', 'Alabama', 'Alaska'], dtype='<U7')"
      ]
     },
     "execution_count": 6,
     "metadata": {},
     "output_type": "execute_result"
    },
    {
     "data": {
      "application/javascript": [
       "\n",
       "            setTimeout(function() {\n",
       "                var nbb_cell_id = 6;\n",
       "                var nbb_unformatted_code = \"indexby(ex_df, \\\"State\\\", 1, \\\"Region\\\").execute()\";\n",
       "                var nbb_formatted_code = \"indexby(ex_df, \\\"State\\\", 1, \\\"Region\\\").execute()\";\n",
       "                var nbb_cells = Jupyter.notebook.get_cells();\n",
       "                for (var i = 0; i < nbb_cells.length; ++i) {\n",
       "                    if (nbb_cells[i].input_prompt_number == nbb_cell_id) {\n",
       "                        if (nbb_cells[i].get_text() == nbb_unformatted_code) {\n",
       "                             nbb_cells[i].set_text(nbb_formatted_code);\n",
       "                        }\n",
       "                        break;\n",
       "                    }\n",
       "                }\n",
       "            }, 500);\n",
       "            "
      ],
      "text/plain": [
       "<IPython.core.display.Javascript object>"
      ]
     },
     "metadata": {},
     "output_type": "display_data"
    }
   ],
   "source": [
    "indexby(ex_df, \"State\", 1, \"Region\").execute()"
   ]
  },
  {
   "cell_type": "markdown",
   "metadata": {},
   "source": [
    "## Testing Dictionary Creation Methods in hopes of avoiding for loop"
   ]
  },
  {
   "cell_type": "markdown",
   "metadata": {},
   "source": [
    "### For Loop"
   ]
  },
  {
   "cell_type": "code",
   "execution_count": 7,
   "metadata": {},
   "outputs": [
    {
     "data": {
      "application/javascript": [
       "\n",
       "            setTimeout(function() {\n",
       "                var nbb_cell_id = 7;\n",
       "                var nbb_unformatted_code = \"def run_for_loop(ex_df):\\n    part_dict = {}\\n    for val in ex_df[\\\"Region\\\"].unique():\\n        part_dict[val] = ex_df[ex_df[\\\"Region\\\"] == val][\\\"State\\\"].reset_index(drop=True)[\\n            0\\n        ]\\n    return\";\n",
       "                var nbb_formatted_code = \"def run_for_loop(ex_df):\\n    part_dict = {}\\n    for val in ex_df[\\\"Region\\\"].unique():\\n        part_dict[val] = ex_df[ex_df[\\\"Region\\\"] == val][\\\"State\\\"].reset_index(drop=True)[\\n            0\\n        ]\\n    return\";\n",
       "                var nbb_cells = Jupyter.notebook.get_cells();\n",
       "                for (var i = 0; i < nbb_cells.length; ++i) {\n",
       "                    if (nbb_cells[i].input_prompt_number == nbb_cell_id) {\n",
       "                        if (nbb_cells[i].get_text() == nbb_unformatted_code) {\n",
       "                             nbb_cells[i].set_text(nbb_formatted_code);\n",
       "                        }\n",
       "                        break;\n",
       "                    }\n",
       "                }\n",
       "            }, 500);\n",
       "            "
      ],
      "text/plain": [
       "<IPython.core.display.Javascript object>"
      ]
     },
     "metadata": {},
     "output_type": "display_data"
    }
   ],
   "source": [
    "def run_for_loop(ex_df):\n",
    "    part_dict = {}\n",
    "    for val in ex_df[\"Region\"].unique():\n",
    "        part_dict[val] = ex_df[ex_df[\"Region\"] == val][\"State\"].reset_index(drop=True)[\n",
    "            0\n",
    "        ]\n",
    "    return"
   ]
  },
  {
   "cell_type": "code",
   "execution_count": 8,
   "metadata": {},
   "outputs": [
    {
     "name": "stdout",
     "output_type": "stream",
     "text": [
      "864 µs ± 10.1 µs per loop (mean ± std. dev. of 7 runs, 1000 loops each)\n"
     ]
    },
    {
     "data": {
      "application/javascript": [
       "\n",
       "            setTimeout(function() {\n",
       "                var nbb_cell_id = 8;\n",
       "                var nbb_unformatted_code = \"%timeit run_for_loop(ex_df)\";\n",
       "                var nbb_formatted_code = \"%timeit run_for_loop(ex_df)\";\n",
       "                var nbb_cells = Jupyter.notebook.get_cells();\n",
       "                for (var i = 0; i < nbb_cells.length; ++i) {\n",
       "                    if (nbb_cells[i].input_prompt_number == nbb_cell_id) {\n",
       "                        if (nbb_cells[i].get_text() == nbb_unformatted_code) {\n",
       "                             nbb_cells[i].set_text(nbb_formatted_code);\n",
       "                        }\n",
       "                        break;\n",
       "                    }\n",
       "                }\n",
       "            }, 500);\n",
       "            "
      ],
      "text/plain": [
       "<IPython.core.display.Javascript object>"
      ]
     },
     "metadata": {},
     "output_type": "display_data"
    }
   ],
   "source": [
    "%timeit run_for_loop(ex_df)"
   ]
  },
  {
   "cell_type": "markdown",
   "metadata": {},
   "source": [
    "### List Comprehension"
   ]
  },
  {
   "cell_type": "code",
   "execution_count": 9,
   "metadata": {},
   "outputs": [
    {
     "data": {
      "application/javascript": [
       "\n",
       "            setTimeout(function() {\n",
       "                var nbb_cell_id = 9;\n",
       "                var nbb_unformatted_code = \"def run_list_comp(ex_df):\\n    part_dict = {\\n        val: ex_df[ex_df[\\\"Region\\\"] == val][\\\"State\\\"].reset_index(drop=True)[0]\\n        for val in ex_df[\\\"Region\\\"].unique()\\n    }\\n    return part_dict\";\n",
       "                var nbb_formatted_code = \"def run_list_comp(ex_df):\\n    part_dict = {\\n        val: ex_df[ex_df[\\\"Region\\\"] == val][\\\"State\\\"].reset_index(drop=True)[0]\\n        for val in ex_df[\\\"Region\\\"].unique()\\n    }\\n    return part_dict\";\n",
       "                var nbb_cells = Jupyter.notebook.get_cells();\n",
       "                for (var i = 0; i < nbb_cells.length; ++i) {\n",
       "                    if (nbb_cells[i].input_prompt_number == nbb_cell_id) {\n",
       "                        if (nbb_cells[i].get_text() == nbb_unformatted_code) {\n",
       "                             nbb_cells[i].set_text(nbb_formatted_code);\n",
       "                        }\n",
       "                        break;\n",
       "                    }\n",
       "                }\n",
       "            }, 500);\n",
       "            "
      ],
      "text/plain": [
       "<IPython.core.display.Javascript object>"
      ]
     },
     "metadata": {},
     "output_type": "display_data"
    }
   ],
   "source": [
    "def run_list_comp(ex_df):\n",
    "    part_dict = {\n",
    "        val: ex_df[ex_df[\"Region\"] == val][\"State\"].reset_index(drop=True)[0]\n",
    "        for val in ex_df[\"Region\"].unique()\n",
    "    }\n",
    "    return part_dict"
   ]
  },
  {
   "cell_type": "code",
   "execution_count": 10,
   "metadata": {},
   "outputs": [
    {
     "name": "stdout",
     "output_type": "stream",
     "text": [
      "841 µs ± 11.4 µs per loop (mean ± std. dev. of 7 runs, 1000 loops each)\n"
     ]
    },
    {
     "data": {
      "application/javascript": [
       "\n",
       "            setTimeout(function() {\n",
       "                var nbb_cell_id = 10;\n",
       "                var nbb_unformatted_code = \"%timeit run_list_comp(ex_df)\";\n",
       "                var nbb_formatted_code = \"%timeit run_list_comp(ex_df)\";\n",
       "                var nbb_cells = Jupyter.notebook.get_cells();\n",
       "                for (var i = 0; i < nbb_cells.length; ++i) {\n",
       "                    if (nbb_cells[i].input_prompt_number == nbb_cell_id) {\n",
       "                        if (nbb_cells[i].get_text() == nbb_unformatted_code) {\n",
       "                             nbb_cells[i].set_text(nbb_formatted_code);\n",
       "                        }\n",
       "                        break;\n",
       "                    }\n",
       "                }\n",
       "            }, 500);\n",
       "            "
      ],
      "text/plain": [
       "<IPython.core.display.Javascript object>"
      ]
     },
     "metadata": {},
     "output_type": "display_data"
    }
   ],
   "source": [
    "%timeit run_list_comp(ex_df)"
   ]
  },
  {
   "cell_type": "markdown",
   "metadata": {},
   "source": [
    "### Numpy Vectorize + pd.to_dict()"
   ]
  },
  {
   "cell_type": "code",
   "execution_count": 11,
   "metadata": {},
   "outputs": [
    {
     "data": {
      "application/javascript": [
       "\n",
       "            setTimeout(function() {\n",
       "                var nbb_cell_id = 11;\n",
       "                var nbb_unformatted_code = \"df = ex_df\\npartition_column = \\\"Region\\\"\\n\\n\\ndef get_ib(val):\\n    index_column = \\\"State\\\"\\n    index_val = 1\\n    return df[df[partition_column] == val][index_column].reset_index(drop=True)[\\n        index_val - 1\\n    ]\\n\\n\\ndef gen_dict(df, partition_column):\\n    df = pd.DataFrame(\\n        {\\n            \\\"Partition\\\": pd.Series(df[partition_column].unique()),\\n            \\\"Values\\\": pd.Series(np.vectorize(get_ib)(df[partition_column].unique())),\\n        }\\n    )\\n    return pd.Series(df.Values.values, index=df.Partition.values).to_dict()\";\n",
       "                var nbb_formatted_code = \"df = ex_df\\npartition_column = \\\"Region\\\"\\n\\n\\ndef get_ib(val):\\n    index_column = \\\"State\\\"\\n    index_val = 1\\n    return df[df[partition_column] == val][index_column].reset_index(drop=True)[\\n        index_val - 1\\n    ]\\n\\n\\ndef gen_dict(df, partition_column):\\n    df = pd.DataFrame(\\n        {\\n            \\\"Partition\\\": pd.Series(df[partition_column].unique()),\\n            \\\"Values\\\": pd.Series(np.vectorize(get_ib)(df[partition_column].unique())),\\n        }\\n    )\\n    return pd.Series(df.Values.values, index=df.Partition.values).to_dict()\";\n",
       "                var nbb_cells = Jupyter.notebook.get_cells();\n",
       "                for (var i = 0; i < nbb_cells.length; ++i) {\n",
       "                    if (nbb_cells[i].input_prompt_number == nbb_cell_id) {\n",
       "                        if (nbb_cells[i].get_text() == nbb_unformatted_code) {\n",
       "                             nbb_cells[i].set_text(nbb_formatted_code);\n",
       "                        }\n",
       "                        break;\n",
       "                    }\n",
       "                }\n",
       "            }, 500);\n",
       "            "
      ],
      "text/plain": [
       "<IPython.core.display.Javascript object>"
      ]
     },
     "metadata": {},
     "output_type": "display_data"
    }
   ],
   "source": [
    "df = ex_df\n",
    "partition_column = \"Region\"\n",
    "\n",
    "\n",
    "def get_ib(val):\n",
    "    index_column = \"State\"\n",
    "    index_val = 1\n",
    "    return df[df[partition_column] == val][index_column].reset_index(drop=True)[\n",
    "        index_val - 1\n",
    "    ]\n",
    "\n",
    "\n",
    "def gen_dict(df, partition_column):\n",
    "    df = pd.DataFrame(\n",
    "        {\n",
    "            \"Partition\": pd.Series(df[partition_column].unique()),\n",
    "            \"Values\": pd.Series(np.vectorize(get_ib)(df[partition_column].unique())),\n",
    "        }\n",
    "    )\n",
    "    return pd.Series(df.Values.values, index=df.Partition.values).to_dict()"
   ]
  },
  {
   "cell_type": "code",
   "execution_count": 12,
   "metadata": {},
   "outputs": [
    {
     "name": "stdout",
     "output_type": "stream",
     "text": [
      "2.07 ms ± 33.9 µs per loop (mean ± std. dev. of 7 runs, 100 loops each)\n"
     ]
    },
    {
     "data": {
      "application/javascript": [
       "\n",
       "            setTimeout(function() {\n",
       "                var nbb_cell_id = 12;\n",
       "                var nbb_unformatted_code = \"%timeit gen_dict(df, partition_column)\";\n",
       "                var nbb_formatted_code = \"%timeit gen_dict(df, partition_column)\";\n",
       "                var nbb_cells = Jupyter.notebook.get_cells();\n",
       "                for (var i = 0; i < nbb_cells.length; ++i) {\n",
       "                    if (nbb_cells[i].input_prompt_number == nbb_cell_id) {\n",
       "                        if (nbb_cells[i].get_text() == nbb_unformatted_code) {\n",
       "                             nbb_cells[i].set_text(nbb_formatted_code);\n",
       "                        }\n",
       "                        break;\n",
       "                    }\n",
       "                }\n",
       "            }, 500);\n",
       "            "
      ],
      "text/plain": [
       "<IPython.core.display.Javascript object>"
      ]
     },
     "metadata": {},
     "output_type": "display_data"
    }
   ],
   "source": [
    "%timeit gen_dict(df, partition_column)"
   ]
  },
  {
   "cell_type": "markdown",
   "metadata": {},
   "source": [
    "## Creating Class which implements list comprehension dictionary creation method."
   ]
  },
  {
   "cell_type": "code",
   "execution_count": 13,
   "metadata": {},
   "outputs": [
    {
     "data": {
      "application/javascript": [
       "\n",
       "            setTimeout(function() {\n",
       "                var nbb_cell_id = 13;\n",
       "                var nbb_unformatted_code = \"class indexby_lc:\\n    def __init__(self, df, index_column, index_val, partition_column):\\n        self.df = df\\n        self.index_column = index_column\\n        self.index_val = index_val\\n        self.partition_column = partition_column\\n        self.part_dict = {}\\n\\n        self.part_dict = {\\n            val: self.df[self.df[self.partition_column] == val][\\n                self.index_column\\n            ].reset_index(drop=True)[self.index_val - 1]\\n            for val in self.df[self.partition_column].unique()\\n        }\\n\\n    def set_value(self, partition):\\n        return self.part_dict[partition]\\n\\n    def execute(self):\\n        return np.vectorize(self.set_value)(self.df[self.partition_column])\";\n",
       "                var nbb_formatted_code = \"class indexby_lc:\\n    def __init__(self, df, index_column, index_val, partition_column):\\n        self.df = df\\n        self.index_column = index_column\\n        self.index_val = index_val\\n        self.partition_column = partition_column\\n        self.part_dict = {}\\n\\n        self.part_dict = {\\n            val: self.df[self.df[self.partition_column] == val][\\n                self.index_column\\n            ].reset_index(drop=True)[self.index_val - 1]\\n            for val in self.df[self.partition_column].unique()\\n        }\\n\\n    def set_value(self, partition):\\n        return self.part_dict[partition]\\n\\n    def execute(self):\\n        return np.vectorize(self.set_value)(self.df[self.partition_column])\";\n",
       "                var nbb_cells = Jupyter.notebook.get_cells();\n",
       "                for (var i = 0; i < nbb_cells.length; ++i) {\n",
       "                    if (nbb_cells[i].input_prompt_number == nbb_cell_id) {\n",
       "                        if (nbb_cells[i].get_text() == nbb_unformatted_code) {\n",
       "                             nbb_cells[i].set_text(nbb_formatted_code);\n",
       "                        }\n",
       "                        break;\n",
       "                    }\n",
       "                }\n",
       "            }, 500);\n",
       "            "
      ],
      "text/plain": [
       "<IPython.core.display.Javascript object>"
      ]
     },
     "metadata": {},
     "output_type": "display_data"
    }
   ],
   "source": [
    "class indexby_lc:\n",
    "    def __init__(self, df, index_column, index_val, partition_column):\n",
    "        self.df = df\n",
    "        self.index_column = index_column\n",
    "        self.index_val = index_val\n",
    "        self.partition_column = partition_column\n",
    "        self.part_dict = {}\n",
    "\n",
    "        self.part_dict = {\n",
    "            val: self.df[self.df[self.partition_column] == val][\n",
    "                self.index_column\n",
    "            ].reset_index(drop=True)[self.index_val - 1]\n",
    "            for val in self.df[self.partition_column].unique()\n",
    "        }\n",
    "\n",
    "    def set_value(self, partition):\n",
    "        return self.part_dict[partition]\n",
    "\n",
    "    def execute(self):\n",
    "        return np.vectorize(self.set_value)(self.df[self.partition_column])"
   ]
  },
  {
   "cell_type": "markdown",
   "metadata": {},
   "source": [
    "## Creating Class which implements the numpy vectorize + pd.to_dict() dictionary creation method."
   ]
  },
  {
   "cell_type": "code",
   "execution_count": 14,
   "metadata": {},
   "outputs": [
    {
     "data": {
      "application/javascript": [
       "\n",
       "            setTimeout(function() {\n",
       "                var nbb_cell_id = 14;\n",
       "                var nbb_unformatted_code = \"class indexby_numpy:\\n    def __init__(self, df, index_column, index_val, partition_column):\\n        self.df = df\\n        self.index_column = index_column\\n        self.index_val = index_val\\n        self.partition_column = partition_column\\n\\n    def get_ib(self, val):\\n        return self.df[self.df[self.partition_column] == val][\\n            self.index_column\\n        ].reset_index(drop=True)[self.index_val - 1]\\n\\n    def gen_dict(self):\\n        df = pd.DataFrame(\\n            {\\n                \\\"Partition\\\": pd.Series(self.df[self.partition_column].unique()),\\n                \\\"Values\\\": pd.Series(\\n                    np.vectorize(self.get_ib)(self.df[self.partition_column].unique())\\n                ),\\n            }\\n        )\\n        self.part_dict = pd.Series(\\n            df.Values.values, index=df.Partition.values\\n        ).to_dict()\\n        return\\n\\n    def set_value(self, partition):\\n        return self.part_dict[partition]\\n\\n    def execute(self):\\n        self.gen_dict()\\n        return np.vectorize(self.set_value)(self.df[self.partition_column])\";\n",
       "                var nbb_formatted_code = \"class indexby_numpy:\\n    def __init__(self, df, index_column, index_val, partition_column):\\n        self.df = df\\n        self.index_column = index_column\\n        self.index_val = index_val\\n        self.partition_column = partition_column\\n\\n    def get_ib(self, val):\\n        return self.df[self.df[self.partition_column] == val][\\n            self.index_column\\n        ].reset_index(drop=True)[self.index_val - 1]\\n\\n    def gen_dict(self):\\n        df = pd.DataFrame(\\n            {\\n                \\\"Partition\\\": pd.Series(self.df[self.partition_column].unique()),\\n                \\\"Values\\\": pd.Series(\\n                    np.vectorize(self.get_ib)(self.df[self.partition_column].unique())\\n                ),\\n            }\\n        )\\n        self.part_dict = pd.Series(\\n            df.Values.values, index=df.Partition.values\\n        ).to_dict()\\n        return\\n\\n    def set_value(self, partition):\\n        return self.part_dict[partition]\\n\\n    def execute(self):\\n        self.gen_dict()\\n        return np.vectorize(self.set_value)(self.df[self.partition_column])\";\n",
       "                var nbb_cells = Jupyter.notebook.get_cells();\n",
       "                for (var i = 0; i < nbb_cells.length; ++i) {\n",
       "                    if (nbb_cells[i].input_prompt_number == nbb_cell_id) {\n",
       "                        if (nbb_cells[i].get_text() == nbb_unformatted_code) {\n",
       "                             nbb_cells[i].set_text(nbb_formatted_code);\n",
       "                        }\n",
       "                        break;\n",
       "                    }\n",
       "                }\n",
       "            }, 500);\n",
       "            "
      ],
      "text/plain": [
       "<IPython.core.display.Javascript object>"
      ]
     },
     "metadata": {},
     "output_type": "display_data"
    }
   ],
   "source": [
    "class indexby_numpy:\n",
    "    def __init__(self, df, index_column, index_val, partition_column):\n",
    "        self.df = df\n",
    "        self.index_column = index_column\n",
    "        self.index_val = index_val\n",
    "        self.partition_column = partition_column\n",
    "\n",
    "    def get_ib(self, val):\n",
    "        return self.df[self.df[self.partition_column] == val][\n",
    "            self.index_column\n",
    "        ].reset_index(drop=True)[self.index_val - 1]\n",
    "\n",
    "    def gen_dict(self):\n",
    "        df = pd.DataFrame(\n",
    "            {\n",
    "                \"Partition\": pd.Series(self.df[self.partition_column].unique()),\n",
    "                \"Values\": pd.Series(\n",
    "                    np.vectorize(self.get_ib)(self.df[self.partition_column].unique())\n",
    "                ),\n",
    "            }\n",
    "        )\n",
    "        self.part_dict = pd.Series(\n",
    "            df.Values.values, index=df.Partition.values\n",
    "        ).to_dict()\n",
    "        return\n",
    "\n",
    "    def set_value(self, partition):\n",
    "        return self.part_dict[partition]\n",
    "\n",
    "    def execute(self):\n",
    "        self.gen_dict()\n",
    "        return np.vectorize(self.set_value)(self.df[self.partition_column])"
   ]
  },
  {
   "cell_type": "markdown",
   "metadata": {},
   "source": [
    "## Compare for loop, list comp, and numpy vectorize for speed through entire process."
   ]
  },
  {
   "cell_type": "code",
   "execution_count": 15,
   "metadata": {},
   "outputs": [
    {
     "name": "stdout",
     "output_type": "stream",
     "text": [
      "948 µs ± 21 µs per loop (mean ± std. dev. of 7 runs, 1000 loops each)\n"
     ]
    },
    {
     "data": {
      "application/javascript": [
       "\n",
       "            setTimeout(function() {\n",
       "                var nbb_cell_id = 15;\n",
       "                var nbb_unformatted_code = \"%timeit indexby(ex_df, 'State', 1, 'Region').execute()\";\n",
       "                var nbb_formatted_code = \"%timeit indexby(ex_df, 'State', 1, 'Region').execute()\";\n",
       "                var nbb_cells = Jupyter.notebook.get_cells();\n",
       "                for (var i = 0; i < nbb_cells.length; ++i) {\n",
       "                    if (nbb_cells[i].input_prompt_number == nbb_cell_id) {\n",
       "                        if (nbb_cells[i].get_text() == nbb_unformatted_code) {\n",
       "                             nbb_cells[i].set_text(nbb_formatted_code);\n",
       "                        }\n",
       "                        break;\n",
       "                    }\n",
       "                }\n",
       "            }, 500);\n",
       "            "
      ],
      "text/plain": [
       "<IPython.core.display.Javascript object>"
      ]
     },
     "metadata": {},
     "output_type": "display_data"
    }
   ],
   "source": [
    "%timeit indexby(ex_df, 'State', 1, 'Region').execute()"
   ]
  },
  {
   "cell_type": "code",
   "execution_count": 16,
   "metadata": {},
   "outputs": [
    {
     "name": "stdout",
     "output_type": "stream",
     "text": [
      "943 µs ± 26.6 µs per loop (mean ± std. dev. of 7 runs, 1000 loops each)\n"
     ]
    },
    {
     "data": {
      "application/javascript": [
       "\n",
       "            setTimeout(function() {\n",
       "                var nbb_cell_id = 16;\n",
       "                var nbb_unformatted_code = \"%timeit indexby_lc(ex_df, 'State', 1, 'Region').execute()\";\n",
       "                var nbb_formatted_code = \"%timeit indexby_lc(ex_df, 'State', 1, 'Region').execute()\";\n",
       "                var nbb_cells = Jupyter.notebook.get_cells();\n",
       "                for (var i = 0; i < nbb_cells.length; ++i) {\n",
       "                    if (nbb_cells[i].input_prompt_number == nbb_cell_id) {\n",
       "                        if (nbb_cells[i].get_text() == nbb_unformatted_code) {\n",
       "                             nbb_cells[i].set_text(nbb_formatted_code);\n",
       "                        }\n",
       "                        break;\n",
       "                    }\n",
       "                }\n",
       "            }, 500);\n",
       "            "
      ],
      "text/plain": [
       "<IPython.core.display.Javascript object>"
      ]
     },
     "metadata": {},
     "output_type": "display_data"
    }
   ],
   "source": [
    "%timeit indexby_lc(ex_df, 'State', 1, 'Region').execute()"
   ]
  },
  {
   "cell_type": "code",
   "execution_count": 17,
   "metadata": {},
   "outputs": [
    {
     "name": "stdout",
     "output_type": "stream",
     "text": [
      "2.2 ms ± 44.9 µs per loop (mean ± std. dev. of 7 runs, 100 loops each)\n"
     ]
    },
    {
     "data": {
      "application/javascript": [
       "\n",
       "            setTimeout(function() {\n",
       "                var nbb_cell_id = 17;\n",
       "                var nbb_unformatted_code = \"%timeit indexby_numpy(ex_df, 'State', 1, 'Region').execute()\";\n",
       "                var nbb_formatted_code = \"%timeit indexby_numpy(ex_df, 'State', 1, 'Region').execute()\";\n",
       "                var nbb_cells = Jupyter.notebook.get_cells();\n",
       "                for (var i = 0; i < nbb_cells.length; ++i) {\n",
       "                    if (nbb_cells[i].input_prompt_number == nbb_cell_id) {\n",
       "                        if (nbb_cells[i].get_text() == nbb_unformatted_code) {\n",
       "                             nbb_cells[i].set_text(nbb_formatted_code);\n",
       "                        }\n",
       "                        break;\n",
       "                    }\n",
       "                }\n",
       "            }, 500);\n",
       "            "
      ],
      "text/plain": [
       "<IPython.core.display.Javascript object>"
      ]
     },
     "metadata": {},
     "output_type": "display_data"
    }
   ],
   "source": [
    "%timeit indexby_numpy(ex_df, 'State', 1, 'Region').execute()"
   ]
  },
  {
   "cell_type": "markdown",
   "metadata": {},
   "source": [
    "## Testing for loop, list comp, and numpy vectorize when given 100,000 unique values in partition column\n",
    "\n",
    "#### This is due to the length of unique values directly impacting the time complexity of the dictionary generation process."
   ]
  },
  {
   "cell_type": "code",
   "execution_count": 18,
   "metadata": {},
   "outputs": [
    {
     "data": {
      "application/javascript": [
       "\n",
       "            setTimeout(function() {\n",
       "                var nbb_cell_id = 18;\n",
       "                var nbb_unformatted_code = \"df = pd.DataFrame(\\n    {\\n        \\\"State\\\": [\\\"Alabama\\\", \\\"Alaska\\\", \\\"Arizona\\\", \\\"Arkansas\\\", \\\"California\\\"] * 20000,\\n        \\\"Region\\\": [\\\"East\\\", \\\"West\\\", \\\"West\\\", \\\"East\\\", \\\"West\\\"] * 20000,\\n        \\\"Rand\\\": random.sample(range(1, 1000000), 100000),\\n    }\\n)\";\n",
       "                var nbb_formatted_code = \"df = pd.DataFrame(\\n    {\\n        \\\"State\\\": [\\\"Alabama\\\", \\\"Alaska\\\", \\\"Arizona\\\", \\\"Arkansas\\\", \\\"California\\\"] * 20000,\\n        \\\"Region\\\": [\\\"East\\\", \\\"West\\\", \\\"West\\\", \\\"East\\\", \\\"West\\\"] * 20000,\\n        \\\"Rand\\\": random.sample(range(1, 1000000), 100000),\\n    }\\n)\";\n",
       "                var nbb_cells = Jupyter.notebook.get_cells();\n",
       "                for (var i = 0; i < nbb_cells.length; ++i) {\n",
       "                    if (nbb_cells[i].input_prompt_number == nbb_cell_id) {\n",
       "                        if (nbb_cells[i].get_text() == nbb_unformatted_code) {\n",
       "                             nbb_cells[i].set_text(nbb_formatted_code);\n",
       "                        }\n",
       "                        break;\n",
       "                    }\n",
       "                }\n",
       "            }, 500);\n",
       "            "
      ],
      "text/plain": [
       "<IPython.core.display.Javascript object>"
      ]
     },
     "metadata": {},
     "output_type": "display_data"
    }
   ],
   "source": [
    "df = pd.DataFrame(\n",
    "    {\n",
    "        \"State\": [\"Alabama\", \"Alaska\", \"Arizona\", \"Arkansas\", \"California\"] * 20000,\n",
    "        \"Region\": [\"East\", \"West\", \"West\", \"East\", \"West\"] * 20000,\n",
    "        \"Rand\": random.sample(range(1, 1000000), 100000),\n",
    "    }\n",
    ")"
   ]
  },
  {
   "cell_type": "code",
   "execution_count": 19,
   "metadata": {},
   "outputs": [
    {
     "name": "stdout",
     "output_type": "stream",
     "text": [
      "54 s ± 991 ms per loop (mean ± std. dev. of 7 runs, 1 loop each)\n"
     ]
    },
    {
     "data": {
      "application/javascript": [
       "\n",
       "            setTimeout(function() {\n",
       "                var nbb_cell_id = 19;\n",
       "                var nbb_unformatted_code = \"%timeit indexby(df, 'State', 1, 'Rand').execute()\";\n",
       "                var nbb_formatted_code = \"%timeit indexby(df, 'State', 1, 'Rand').execute()\";\n",
       "                var nbb_cells = Jupyter.notebook.get_cells();\n",
       "                for (var i = 0; i < nbb_cells.length; ++i) {\n",
       "                    if (nbb_cells[i].input_prompt_number == nbb_cell_id) {\n",
       "                        if (nbb_cells[i].get_text() == nbb_unformatted_code) {\n",
       "                             nbb_cells[i].set_text(nbb_formatted_code);\n",
       "                        }\n",
       "                        break;\n",
       "                    }\n",
       "                }\n",
       "            }, 500);\n",
       "            "
      ],
      "text/plain": [
       "<IPython.core.display.Javascript object>"
      ]
     },
     "metadata": {},
     "output_type": "display_data"
    }
   ],
   "source": [
    "%timeit indexby(df, 'State', 1, 'Rand').execute()"
   ]
  },
  {
   "cell_type": "code",
   "execution_count": 20,
   "metadata": {},
   "outputs": [
    {
     "name": "stdout",
     "output_type": "stream",
     "text": [
      "54.2 s ± 909 ms per loop (mean ± std. dev. of 7 runs, 1 loop each)\n"
     ]
    },
    {
     "data": {
      "application/javascript": [
       "\n",
       "            setTimeout(function() {\n",
       "                var nbb_cell_id = 20;\n",
       "                var nbb_unformatted_code = \"%timeit indexby_lc(df, 'State', 1, 'Rand').execute()\";\n",
       "                var nbb_formatted_code = \"%timeit indexby_lc(df, 'State', 1, 'Rand').execute()\";\n",
       "                var nbb_cells = Jupyter.notebook.get_cells();\n",
       "                for (var i = 0; i < nbb_cells.length; ++i) {\n",
       "                    if (nbb_cells[i].input_prompt_number == nbb_cell_id) {\n",
       "                        if (nbb_cells[i].get_text() == nbb_unformatted_code) {\n",
       "                             nbb_cells[i].set_text(nbb_formatted_code);\n",
       "                        }\n",
       "                        break;\n",
       "                    }\n",
       "                }\n",
       "            }, 500);\n",
       "            "
      ],
      "text/plain": [
       "<IPython.core.display.Javascript object>"
      ]
     },
     "metadata": {},
     "output_type": "display_data"
    }
   ],
   "source": [
    "%timeit indexby_lc(df, 'State', 1, 'Rand').execute()"
   ]
  },
  {
   "cell_type": "code",
   "execution_count": 21,
   "metadata": {},
   "outputs": [
    {
     "name": "stdout",
     "output_type": "stream",
     "text": [
      "52.8 s ± 145 ms per loop (mean ± std. dev. of 7 runs, 1 loop each)\n"
     ]
    },
    {
     "data": {
      "application/javascript": [
       "\n",
       "            setTimeout(function() {\n",
       "                var nbb_cell_id = 21;\n",
       "                var nbb_unformatted_code = \"%timeit indexby_numpy(df, 'State', 1, 'Rand').execute()\";\n",
       "                var nbb_formatted_code = \"%timeit indexby_numpy(df, 'State', 1, 'Rand').execute()\";\n",
       "                var nbb_cells = Jupyter.notebook.get_cells();\n",
       "                for (var i = 0; i < nbb_cells.length; ++i) {\n",
       "                    if (nbb_cells[i].input_prompt_number == nbb_cell_id) {\n",
       "                        if (nbb_cells[i].get_text() == nbb_unformatted_code) {\n",
       "                             nbb_cells[i].set_text(nbb_formatted_code);\n",
       "                        }\n",
       "                        break;\n",
       "                    }\n",
       "                }\n",
       "            }, 500);\n",
       "            "
      ],
      "text/plain": [
       "<IPython.core.display.Javascript object>"
      ]
     },
     "metadata": {},
     "output_type": "display_data"
    }
   ],
   "source": [
    "%timeit indexby_numpy(df, 'State', 1, 'Rand').execute()"
   ]
  }
 ],
 "metadata": {
  "kernelspec": {
   "display_name": "Python 3",
   "language": "python",
   "name": "python3"
  },
  "language_info": {
   "codemirror_mode": {
    "name": "ipython",
    "version": 3
   },
   "file_extension": ".py",
   "mimetype": "text/x-python",
   "name": "python",
   "nbconvert_exporter": "python",
   "pygments_lexer": "ipython3",
   "version": "3.8.1"
  }
 },
 "nbformat": 4,
 "nbformat_minor": 4
}
